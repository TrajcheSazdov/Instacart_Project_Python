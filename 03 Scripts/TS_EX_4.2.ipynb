{
 "cells": [
  {
   "cell_type": "markdown",
   "id": "78e174de",
   "metadata": {},
   "source": [
    "# 01. Importing libraries"
   ]
  },
  {
   "cell_type": "code",
   "execution_count": 1,
   "id": "9ec3b351",
   "metadata": {},
   "outputs": [],
   "source": [
    "# Import libraries\n",
    "import pandas as pd\n",
    "import numpy as np\n",
    "import os"
   ]
  },
  {
   "cell_type": "markdown",
   "id": "dd72255d",
   "metadata": {},
   "source": [
    "# 02. Data types"
   ]
  },
  {
   "cell_type": "code",
   "execution_count": 3,
   "id": "a6579457",
   "metadata": {},
   "outputs": [],
   "source": [
    "x=50"
   ]
  },
  {
   "cell_type": "code",
   "execution_count": 2,
   "id": "1edaab15",
   "metadata": {},
   "outputs": [],
   "source": [
    "y=25"
   ]
  },
  {
   "cell_type": "code",
   "execution_count": 4,
   "id": "567e7664",
   "metadata": {},
   "outputs": [
    {
     "data": {
      "text/plain": [
       "100"
      ]
     },
     "execution_count": 4,
     "metadata": {},
     "output_type": "execute_result"
    }
   ],
   "source": [
    "x+y+y"
   ]
  },
  {
   "cell_type": "code",
   "execution_count": 6,
   "id": "fa8b27f9",
   "metadata": {},
   "outputs": [
    {
     "data": {
      "text/plain": [
       "100"
      ]
     },
     "execution_count": 6,
     "metadata": {},
     "output_type": "execute_result"
    }
   ],
   "source": [
    "x+y*2"
   ]
  },
  {
   "cell_type": "code",
   "execution_count": 7,
   "id": "9ff4c58d",
   "metadata": {},
   "outputs": [
    {
     "data": {
      "text/plain": [
       "100"
      ]
     },
     "execution_count": 7,
     "metadata": {},
     "output_type": "execute_result"
    }
   ],
   "source": [
    "3*x-2*y"
   ]
  },
  {
   "cell_type": "code",
   "execution_count": 8,
   "id": "9d2dbde2",
   "metadata": {},
   "outputs": [],
   "source": [
    "z=32.434"
   ]
  },
  {
   "cell_type": "code",
   "execution_count": 9,
   "id": "1f4e5240",
   "metadata": {},
   "outputs": [],
   "source": [
    "m=12.32"
   ]
  },
  {
   "cell_type": "code",
   "execution_count": 10,
   "id": "98230ea0",
   "metadata": {},
   "outputs": [
    {
     "data": {
      "text/plain": [
       "2.63262987012987"
      ]
     },
     "execution_count": 10,
     "metadata": {},
     "output_type": "execute_result"
    }
   ],
   "source": [
    "z/m"
   ]
  },
  {
   "cell_type": "code",
   "execution_count": 16,
   "id": "4222b230",
   "metadata": {},
   "outputs": [],
   "source": [
    "a='Con'"
   ]
  },
  {
   "cell_type": "code",
   "execution_count": 22,
   "id": "46c5b094",
   "metadata": {},
   "outputs": [],
   "source": [
    "b='struct '"
   ]
  },
  {
   "cell_type": "code",
   "execution_count": 23,
   "id": "d22af40c",
   "metadata": {},
   "outputs": [],
   "source": [
    "c='short '"
   ]
  },
  {
   "cell_type": "code",
   "execution_count": 24,
   "id": "4a042daa",
   "metadata": {},
   "outputs": [],
   "source": [
    "d='word '"
   ]
  },
  {
   "cell_type": "code",
   "execution_count": 25,
   "id": "60f9aa46",
   "metadata": {},
   "outputs": [],
   "source": [
    "e='a '"
   ]
  },
  {
   "cell_type": "code",
   "execution_count": 26,
   "id": "7b5dd2af",
   "metadata": {},
   "outputs": [],
   "source": [
    "f='two '"
   ]
  },
  {
   "cell_type": "code",
   "execution_count": 27,
   "id": "50994497",
   "metadata": {},
   "outputs": [],
   "source": [
    "g='sentances '"
   ]
  },
  {
   "cell_type": "code",
   "execution_count": 28,
   "id": "3544b7c5",
   "metadata": {},
   "outputs": [
    {
     "data": {
      "text/plain": [
       "'Construct '"
      ]
     },
     "execution_count": 28,
     "metadata": {},
     "output_type": "execute_result"
    }
   ],
   "source": [
    "a+b"
   ]
  },
  {
   "cell_type": "code",
   "execution_count": 29,
   "id": "5b5decb5",
   "metadata": {},
   "outputs": [
    {
     "data": {
      "text/plain": [
       "'Construct a short word '"
      ]
     },
     "execution_count": 29,
     "metadata": {},
     "output_type": "execute_result"
    }
   ],
   "source": [
    "a+b+e+c+d"
   ]
  },
  {
   "cell_type": "code",
   "execution_count": 30,
   "id": "75f5a641",
   "metadata": {},
   "outputs": [
    {
     "data": {
      "text/plain": [
       "'Construct two short sentances '"
      ]
     },
     "execution_count": 30,
     "metadata": {},
     "output_type": "execute_result"
    }
   ],
   "source": [
    "a+b+f+c+g"
   ]
  },
  {
   "cell_type": "code",
   "execution_count": 31,
   "id": "1ece6bad",
   "metadata": {},
   "outputs": [
    {
     "data": {
      "text/plain": [
       "'Construct Construct Construct Construct Construct Construct Construct Construct Construct Construct Construct Construct Construct Construct Construct Construct Construct Construct Construct Construct Construct Construct Construct Construct Construct Construct Construct Construct Construct Construct Construct Construct Construct Construct Construct Construct Construct Construct Construct Construct Construct Construct Construct Construct Construct Construct Construct Construct Construct Construct Construct Construct Construct Construct Construct Construct Construct Construct Construct Construct Construct Construct Construct Construct Construct Construct Construct Construct Construct Construct Construct Construct Construct Construct Construct Construct Construct Construct Construct Construct Construct Construct Construct Construct Construct Construct Construct Construct Construct Construct Construct Construct Construct Construct Construct Construct Construct Construct Construct Construct '"
      ]
     },
     "execution_count": 31,
     "metadata": {},
     "output_type": "execute_result"
    }
   ],
   "source": [
    "(a+b)*2*x"
   ]
  },
  {
   "cell_type": "code",
   "execution_count": null,
   "id": "b7937076",
   "metadata": {},
   "outputs": [],
   "source": []
  }
 ],
 "metadata": {
  "kernelspec": {
   "display_name": "Python 3 (ipykernel)",
   "language": "python",
   "name": "python3"
  },
  "language_info": {
   "codemirror_mode": {
    "name": "ipython",
    "version": 3
   },
   "file_extension": ".py",
   "mimetype": "text/x-python",
   "name": "python",
   "nbconvert_exporter": "python",
   "pygments_lexer": "ipython3",
   "version": "3.10.9"
  }
 },
 "nbformat": 4,
 "nbformat_minor": 5
}
